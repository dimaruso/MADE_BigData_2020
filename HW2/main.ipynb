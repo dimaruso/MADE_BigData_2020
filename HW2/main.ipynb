{
 "metadata": {
  "language_info": {
   "codemirror_mode": {
    "name": "ipython",
    "version": 3
   },
   "file_extension": ".py",
   "mimetype": "text/x-python",
   "name": "python",
   "nbconvert_exporter": "python",
   "pygments_lexer": "ipython3",
   "version": "3.6.10-final"
  },
  "orig_nbformat": 2,
  "kernelspec": {
   "name": "Python 3.6.10 64-bit ('ml36': conda)",
   "display_name": "Python 3.6.10 64-bit ('ml36': conda)",
   "metadata": {
    "interpreter": {
     "hash": "0ce41d18bff920b9f40b66f186e023740ed7307eb9ad0854c2d9514f6747dff1"
    }
   }
  }
 },
 "nbformat": 4,
 "nbformat_minor": 2,
 "cells": [
  {
   "cell_type": "code",
   "execution_count": 1,
   "metadata": {},
   "outputs": [],
   "source": [
    "import pandas as pd\n",
    "import numpy as np\n",
    "import zipfile"
   ]
  },
  {
   "cell_type": "code",
   "execution_count": 2,
   "metadata": {},
   "outputs": [
    {
     "output_type": "execute_result",
     "data": {
      "text/plain": "0    149\n1    225\n2    150\n3     89\n4     80\nName: price, dtype: int64"
     },
     "metadata": {},
     "execution_count": 2
    }
   ],
   "source": [
    "with zipfile.ZipFile('archive.zip', 'r') as zip_ref:\n",
    "    # zip_ref.extractall()\n",
    "    with zip_ref.open('AB_NYC_2019.csv', 'r') as csv:\n",
    "        data = pd.read_csv(csv)['price']\n",
    "data.head()"
   ]
  },
  {
   "cell_type": "code",
   "execution_count": 3,
   "metadata": {},
   "outputs": [],
   "source": [
    "def print_stat(data, N = None):\n",
    "    sample = data.sample(N) if N else data        \n",
    "    print(f'mean = {np.mean(sample)}, var = {np.var(sample)}')\n",
    "    return np.mean(sample), np.var(sample)"
   ]
  },
  {
   "cell_type": "code",
   "execution_count": 4,
   "metadata": {
    "tags": []
   },
   "outputs": [
    {
     "output_type": "stream",
     "name": "stdout",
     "text": "mean = 152.7206871868289, var = 57672.84569843359\n"
    }
   ],
   "source": [
    "print_stat(data);"
   ]
  },
  {
   "cell_type": "code",
   "execution_count": null,
   "metadata": {},
   "outputs": [],
   "source": []
  }
 ]
}